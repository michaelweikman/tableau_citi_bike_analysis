{
 "cells": [
  {
   "cell_type": "code",
   "execution_count": 2,
   "metadata": {},
   "outputs": [],
   "source": [
    "import pandas as pd\n",
    "import glob"
   ]
  },
  {
   "cell_type": "code",
   "execution_count": 12,
   "metadata": {},
   "outputs": [
    {
     "name": "stdout",
     "output_type": "stream",
     "text": [
      "Working............Done"
     ]
    }
   ],
   "source": [
    "#Bike Trip data consolidation\n",
    "csv_list = []\n",
    "\n",
    "print('Working', end=\"\")\n",
    "for csv in glob.glob('Resources/site_csv_downloads/*.csv'):\n",
    "    print('.', end=\"\", flush=True)\n",
    "    df = pd.read_csv(csv)\n",
    "    csv_list.append(df)\n",
    "\n",
    "df = pd.concat(csv_list, ignore_index=True)\n",
    "\n",
    "\n",
    "# creating a dict file  \n",
    "#gender = {0: 'Unknown', 1: 'Male', 2: 'Female'} \n",
    "  \n",
    "# traversing through dataframe \n",
    "# Gender column and writing \n",
    "# values where key matches \n",
    "#df.gender = [gender[item] for item in df.gender]\n",
    "\n",
    "df.to_csv('Resources/bike_trip_data.csv', index=False)\n",
    "print('Done', end=\"\")"
   ]
  },
  {
   "cell_type": "code",
   "execution_count": 13,
   "metadata": {},
   "outputs": [
    {
     "name": "stdout",
     "output_type": "stream",
     "text": [
      "Working....Done"
     ]
    }
   ],
   "source": [
    "#Membership data consolidation\n",
    "csv_list = []\n",
    "\n",
    "print('Working', end=\"\")\n",
    "for csv in glob.glob('Resources/membership_data_csvs/*.csv'):\n",
    "    print('.', end=\"\", flush=True)\n",
    "    df = pd.read_csv(csv)\n",
    "    csv_list.append(df)\n",
    "\n",
    "df = pd.concat(csv_list, ignore_index=True)\n",
    "df.to_csv('Resources/membership_data.csv', index=False)\n",
    "print('Done', end=\"\")"
   ]
  },
  {
   "cell_type": "code",
   "execution_count": null,
   "metadata": {},
   "outputs": [],
   "source": []
  }
 ],
 "metadata": {
  "kernelspec": {
   "display_name": "Python 3",
   "language": "python",
   "name": "python3"
  },
  "language_info": {
   "codemirror_mode": {
    "name": "ipython",
    "version": 3
   },
   "file_extension": ".py",
   "mimetype": "text/x-python",
   "name": "python",
   "nbconvert_exporter": "python",
   "pygments_lexer": "ipython3",
   "version": "3.6.10"
  }
 },
 "nbformat": 4,
 "nbformat_minor": 4
}
